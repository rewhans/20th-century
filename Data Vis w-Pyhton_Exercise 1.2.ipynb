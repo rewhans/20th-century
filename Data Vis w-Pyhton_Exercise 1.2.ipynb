{
 "cells": [
  {
   "cell_type": "markdown",
   "id": "4cc97edd-ce29-4239-b464-3be44bbfc4d4",
   "metadata": {},
   "source": [
    "Data Vis w-Pyhton_Exercise 1.2"
   ]
  },
  {
   "cell_type": "code",
   "execution_count": 1,
   "id": "68e02712-b678-4a05-bd77-56973139fb2d",
   "metadata": {},
   "outputs": [],
   "source": [
    "import pandas as pd\n",
    "import numpy as np\n",
    "import os"
   ]
  },
  {
   "cell_type": "code",
   "execution_count": 2,
   "id": "e81d75e1-05ad-4e07-8556-bf34f31e7948",
   "metadata": {},
   "outputs": [
    {
     "name": "stdout",
     "output_type": "stream",
     "text": [
      "100\n"
     ]
    }
   ],
   "source": [
    "# 3 Different ways to 100-pt1\n",
    "a = 5\n",
    "b = 40\n",
    "c = 20\n",
    "d = 10\n",
    "e = 90\n",
    "f = 40\n",
    "g = 45\n",
    "h = a + b - c - d + e + f - g \n",
    "print(h)"
   ]
  },
  {
   "cell_type": "code",
   "execution_count": 3,
   "id": "8cd65c8a-817c-476a-8f63-81697ca81869",
   "metadata": {},
   "outputs": [
    {
     "name": "stdout",
     "output_type": "stream",
     "text": [
      "100\n"
     ]
    }
   ],
   "source": [
    "# 3 Different ways to 100-pt2\n",
    "a = 300\n",
    "b = 225\n",
    "c = 35\n",
    "d = 60\n",
    "e = a - b - c + d\n",
    "print(e)"
   ]
  },
  {
   "cell_type": "code",
   "execution_count": 4,
   "id": "ca773b7e-aefa-4d00-9776-f1840e1d1612",
   "metadata": {},
   "outputs": [
    {
     "name": "stdout",
     "output_type": "stream",
     "text": [
      "100\n"
     ]
    }
   ],
   "source": [
    "# 3 Different ways to 100-pt3\n",
    "a = 30\n",
    "b = 45\n",
    "c = 25\n",
    "d = a + b + c\n",
    "print(d)"
   ]
  },
  {
   "cell_type": "code",
   "execution_count": null,
   "id": "00401c3c-b471-4699-a525-3b601ef0e1c4",
   "metadata": {},
   "outputs": [],
   "source": []
  }
 ],
 "metadata": {
  "kernelspec": {
   "display_name": "Python [conda env:base] *",
   "language": "python",
   "name": "conda-base-py"
  },
  "language_info": {
   "codemirror_mode": {
    "name": "ipython",
    "version": 3
   },
   "file_extension": ".py",
   "mimetype": "text/x-python",
   "name": "python",
   "nbconvert_exporter": "python",
   "pygments_lexer": "ipython3",
   "version": "3.12.7"
  }
 },
 "nbformat": 4,
 "nbformat_minor": 5
}
